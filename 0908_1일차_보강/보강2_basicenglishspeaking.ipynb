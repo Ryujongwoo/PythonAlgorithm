{
 "cells": [
  {
   "cell_type": "code",
   "execution_count": 1,
   "metadata": {},
   "outputs": [],
   "source": [
    "import requests\n",
    "from bs4 import BeautifulSoup"
   ]
  },
  {
   "cell_type": "code",
   "execution_count": 5,
   "metadata": {
    "scrolled": true
   },
   "outputs": [],
   "source": [
    "request = requests.get(\"https://basicenglishspeaking.com/daily-english-conversation-topics/\")\n",
    "# print(request)\n",
    "html = request.text\n",
    "# print(html)\n",
    "soup = BeautifulSoup(html, \"html.parser\")\n",
    "# print(soup)"
   ]
  },
  {
   "cell_type": "code",
   "execution_count": 14,
   "metadata": {},
   "outputs": [
    {
     "name": "stdout",
     "output_type": "stream",
     "text": [
      "Family\n",
      "Restaurant\n",
      "Books\n",
      "Travel\n",
      "Website\n",
      "Accident\n",
      "Childhood memory\n",
      "Favorite rooms\n",
      "Presents\n",
      "Historical place\n",
      "Newspaper/ Magazine\n",
      "A memorable event\n",
      "A favorite subject\n",
      "A museum\n",
      "A favorite movie\n",
      "A foreign country\n",
      "Parties\n",
      "A teacher\n",
      "A friend\n",
      "A hotel\n",
      "A letter\n",
      "Hobbies\n",
      "Music\n",
      "Shopping\n",
      "Holiday\n",
      "Animals\n",
      "A practical skill\n",
      "Sport\n",
      "A School\n",
      "Festival\n",
      "Food\n",
      "Household appliance\n",
      "A music band\n",
      "Weather\n",
      "Neighbor\n",
      "Natural scenery\n",
      "Outdoor activities\n",
      "Law\n",
      "Pollution\n",
      "Traffic jam\n",
      "TV program\n",
      "Architect/ Building\n",
      "Electronic Media\n",
      "Job/ Career\n",
      "Competition/ contest\n",
      "A garden\n",
      "Hometown\n",
      "Clothing\n",
      "Advertisement\n",
      "A project\n",
      "A wedding\n",
      "A Coffee shop\n",
      "Culture\n",
      "Transport\n",
      "Politician\n",
      "Communication\n",
      "Business\n",
      "Computer\n",
      "Exercise\n",
      "Goal/ ambition\n",
      "Art\n",
      "Fashion\n",
      "Jewelry\n",
      "Cosmetic\n",
      "Indoor Game\n",
      "Phone conversation\n",
      "Learning A Second language\n",
      "A Creative Person\n",
      "A celebrity\n",
      "A Health Problem\n",
      "Technological advancements\n",
      "A Landmark\n",
      "Handcraft Items\n",
      "Plastic Surgery\n",
      "Success\n"
     ]
    }
   ],
   "source": [
    "divs = soup.findAll(\"div\", {\"class\": \"tcb-flex-col\"})\n",
    "# print(len(divs))\n",
    "# print(divs)\n",
    "for div in divs:\n",
    "    # print(div)\n",
    "    chapters = div.findAll(\"a\")\n",
    "    # print(chapters)\n",
    "    for chapter in chapters:\n",
    "        print(chapter.text)   "
   ]
  },
  {
   "cell_type": "code",
   "execution_count": null,
   "metadata": {},
   "outputs": [],
   "source": []
  }
 ],
 "metadata": {
  "kernelspec": {
   "display_name": "Python 3",
   "language": "python",
   "name": "python3"
  },
  "language_info": {
   "codemirror_mode": {
    "name": "ipython",
    "version": 3
   },
   "file_extension": ".py",
   "mimetype": "text/x-python",
   "name": "python",
   "nbconvert_exporter": "python",
   "pygments_lexer": "ipython3",
   "version": "3.7.4"
  }
 },
 "nbformat": 4,
 "nbformat_minor": 2
}
