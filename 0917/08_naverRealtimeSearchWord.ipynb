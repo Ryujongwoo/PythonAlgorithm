{
 "cells": [
  {
   "cell_type": "code",
   "execution_count": null,
   "metadata": {},
   "outputs": [],
   "source": [
    "import requests\n",
    "from bs4 import BeautifulSoup"
   ]
  },
  {
   "cell_type": "code",
   "execution_count": null,
   "metadata": {},
   "outputs": [],
   "source": [
    "targetSite = 'https://www.naver.com/'\n",
    "header = {\"User-agent\": \"Mozilla/5.0 (Windows NT 6.1; WOW64; Trident/7.0; rv:11.0) like Gecko\"}\n",
    "request = requests.get(targetSite, headers = header)\n",
    "# print(request)\n",
    "html = request.text\n",
    "soup = BeautifulSoup(html, \"html.parser\")\n",
    "print(soup)"
   ]
  },
  {
   "cell_type": "code",
   "execution_count": null,
   "metadata": {},
   "outputs": [],
   "source": [
    "from IPython.display import Image\n",
    "Image('./naver.png', width = '700', height = '1000')"
   ]
  },
  {
   "cell_type": "code",
   "execution_count": null,
   "metadata": {},
   "outputs": [],
   "source": [
    "# 네이버 실시간 검색어 크롤링\n",
    "# 2020년 3월 쯤 네이버 실시간 검색어를 크롤링하는 방법이 변경되었다.\n",
    "# 실시간 검색어가 웹 페이지에 포함되어 있지 않고 ajax를 이용해 받아오는 방식을 사용한다.\n",
    "# requests 모듈의 get() 메소드를 사용해서 실시간 검색어를 json 형태로 받아온다.\n",
    "request = requests.get('https://apis.naver.com/mobile_main/srchrank/srchrank?frm=main&ag=all&gr=4&ma=-2&si=2&en=-2&sp=2')\n",
    "Image('./naver02.png', width = '1000', height = '1000')"
   ]
  },
  {
   "cell_type": "code",
   "execution_count": null,
   "metadata": {},
   "outputs": [],
   "source": [
    "word = request.text\n",
    "# print(type(word))\n",
    "# print(word)"
   ]
  },
  {
   "cell_type": "code",
   "execution_count": null,
   "metadata": {},
   "outputs": [],
   "source": [
    "# json 형태의 실시간 검색어를 딕셔너리로 변환하기 위해 json 모듈을 import 한다.\n",
    "import json"
   ]
  },
  {
   "cell_type": "code",
   "execution_count": null,
   "metadata": {},
   "outputs": [],
   "source": [
    "# json 모듈의 loads() 메소드를 사용해서 json 형태의 데이터를 딕셔너리로 변환한다.\n",
    "word_json = json.loads(word)\n",
    "# print(type(word_json))\n",
    "# print(word_json)"
   ]
  },
  {
   "cell_type": "code",
   "execution_count": null,
   "metadata": {},
   "outputs": [],
   "source": [
    "# 딕셔너리에서 실시간 검색어만 얻어온다.\n",
    "ranks = word_json['data']\n",
    "# print(type(ranks))\n",
    "# print(ranks)"
   ]
  },
  {
   "cell_type": "code",
   "execution_count": null,
   "metadata": {},
   "outputs": [],
   "source": [
    "# 실시간 검색어가 저장된 리트에는 검색어 순위별로 각각 딕셔너리 타입으로 저장되어 있다.\n",
    "for rank in ranks:\n",
    "    print('{0:2d} : {1}'.format(rank['rank'], rank['keyword']))"
   ]
  },
  {
   "cell_type": "code",
   "execution_count": 1,
   "metadata": {},
   "outputs": [
    {
     "name": "stdout",
     "output_type": "stream",
     "text": [
      " 1 : 안민석\n",
      " 2 : 김한석\n",
      " 3 : 정경심\n",
      " 4 : 라면형제\n",
      " 5 : 택배\n",
      " 6 : 소하리\n",
      " 7 : 2020 고1 9월 모의고사\n",
      " 8 : 윤지오\n",
      " 9 : 정태영\n",
      "10 : 헬릭스미스\n",
      "11 : 가레스 베일\n",
      "12 : 엉두\n",
      "13 : 오지않는아이\n",
      "14 : 파나틱스\n",
      "15 : 고백데이\n",
      "16 : 이효춘나이\n",
      "17 : 이가령\n",
      "18 : 기방도령\n",
      "19 : 이경미 감독\n",
      "20 : 임성한\n"
     ]
    }
   ],
   "source": [
    "import requests\n",
    "import json\n",
    "request = requests.get('https://apis.naver.com/mobile_main/srchrank/srchrank?frm=main&ag=all&gr=4&ma=-2&si=2&en=-2&sp=2')\n",
    "word_json = json.loads(request.text)\n",
    "ranks = word_json['data']\n",
    "for rank in ranks:\n",
    "    print('{0:2d} : {1}'.format(rank['rank'], rank['keyword']))"
   ]
  },
  {
   "cell_type": "code",
   "execution_count": null,
   "metadata": {},
   "outputs": [],
   "source": []
  },
  {
   "cell_type": "code",
   "execution_count": null,
   "metadata": {},
   "outputs": [],
   "source": []
  },
  {
   "cell_type": "code",
   "execution_count": null,
   "metadata": {},
   "outputs": [],
   "source": []
  },
  {
   "cell_type": "code",
   "execution_count": null,
   "metadata": {},
   "outputs": [],
   "source": []
  }
 ],
 "metadata": {
  "kernelspec": {
   "display_name": "Python 3",
   "language": "python",
   "name": "python3"
  },
  "language_info": {
   "codemirror_mode": {
    "name": "ipython",
    "version": 3
   },
   "file_extension": ".py",
   "mimetype": "text/x-python",
   "name": "python",
   "nbconvert_exporter": "python",
   "pygments_lexer": "ipython3",
   "version": "3.6.8"
  }
 },
 "nbformat": 4,
 "nbformat_minor": 4
}
