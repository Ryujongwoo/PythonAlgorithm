{
 "cells": [
  {
   "cell_type": "code",
   "execution_count": 1,
   "metadata": {},
   "outputs": [],
   "source": [
    "import requests\n",
    "from bs4 import BeautifulSoup\n",
    "import time"
   ]
  },
  {
   "cell_type": "code",
   "execution_count": 17,
   "metadata": {},
   "outputs": [],
   "source": [
    "# 한 건의 대화 정보를 저장하는 클래스\n",
    "class Conversation:\n",
    "    # 생성자 함수 => __init__(self)\n",
    "    # 클래스 내부에서 정의하는 함수는 무조건 첫 번째 인수로 자기 자신의 객체가 메모리에 생성된 주소를 넘겨받는 self라는 인수를 써야한다.\n",
    "    # 클래스의 객체가 생성될 때 자동으로 실행되는 함수로 클래스의 멤버 변수(self가 앞에 붙은 변수)를 초기화 시킨다.\n",
    "    def __init__(self, question, answer):\n",
    "        # print(\"Conversation 클래스의 생성자 함수가 실행됩니다.\")\n",
    "        # 멤버 변수는 자기 자신의 객체가 생성된 메모리의 주소를 저장하는 인수인 self를 사용해서 선언한다.\n",
    "        # self를 앞에 붙여준 변수를 멤버 변수라 하고 클래스 내부의 모든 함수에서 사용할 수 있다. self를 앞에 붙여주지 않은 함수는 지역 변수라 하고\n",
    "        # 변수가 선언된 함수 내부에서만 사용할 수 있다.\n",
    "        self.question = question # 질문을 기억하는 멤버 변수를 선언하고 초기화 시킨다.\n",
    "        self.answer = answer     # 답변을 기억하는 멤버 변수를 선언하고 초기화 시킨다.\n",
    "    \n",
    "    # 클래스에 저장된 데이터를 출력하는 함수 => __str__(self)\n",
    "    # __str__(self) 함수를 정의하지 않으면 클래스의 객체가 메모리에 생성된 주소가 나온다.\n",
    "    # 클래스에 저장된 데이터를 출력할 형태로 편집해서 return 시킨다.\n",
    "    def __str__(self):\n",
    "        # print(self.question)\n",
    "        return \"question : \" + self.question + \"\\nanswer : \" + self.answer"
   ]
  },
  {
   "cell_type": "code",
   "execution_count": 18,
   "metadata": {},
   "outputs": [
    {
     "name": "stdout",
     "output_type": "stream",
     "text": [
      "question : 질문\n",
      "answer : 답변\n"
     ]
    }
   ],
   "source": [
    "# 클래스의 객체를 생성하는 방법\n",
    "# 변수(객체)이름 = 클래스이름()\n",
    "c = Conversation(\"질문\", \"답변\")\n",
    "print(c)"
   ]
  },
  {
   "cell_type": "code",
   "execution_count": 36,
   "metadata": {},
   "outputs": [],
   "source": [
    "# 75개의 대화 주제와 세부 대화 내용의 url를 크롤링해서 리스트에 저장한 후 리턴하는 함수\n",
    "def getSubject():\n",
    "    subjects = []     # 대화 주제를 기억할 빈 리스트\n",
    "    contentLinks = [] # 대화 주제에 따른 세부 대화 내용의 url을 기억할 빈 리스트\n",
    "    request = requests.get(\"https://basicenglishspeaking.com/daily-english-conversation-topics/\")\n",
    "    html = request.text\n",
    "    soup = BeautifulSoup(html, \"html.parser\")\n",
    "    divs = soup.findAll(\"div\", {\"class\": \"tcb-flex-col\"})\n",
    "    # print(divs)\n",
    "    for div in divs:\n",
    "        # print(div)\n",
    "        chapters = div.findAll(\"a\")\n",
    "        for chapter in chapters:\n",
    "            subjects.append(chapter.text) # subjects 리스트에 크롤링한 대화 주제를 저장한다.\n",
    "            # get(\"href\") : 인수로 지정된 속성의 속성값만 얻어온다.\n",
    "            # print(chapter.get(\"href\"))\n",
    "            contentLinks.append(chapter.get(\"href\"))\n",
    "        # ===== for chapter in chapters: 끝\n",
    "    # ===== for div in divs: 끝\n",
    "    \n",
    "    # 대화 주제와 세부 대화 내용의 url이 저장된 리스트를 리턴시킨다.\n",
    "    return subjects, contentLinks # 2건의 데이터를 리턴하는 것이 아니고 2건의 데이터로 구성된 튜플 1개를 리턴시킨다."
   ]
  },
  {
   "cell_type": "code",
   "execution_count": 58,
   "metadata": {},
   "outputs": [
    {
     "name": "stdout",
     "output_type": "stream",
     "text": [
      "총 75개의 대화를 찾았습니다.\n",
      " 1. Family - https://basicenglishspeaking.com/family/\n",
      "question : How many people are there in your family?\n",
      "answer : There are 5 people in my family: my father, mother, brother, sister, and me.\n",
      "question : Does your family live in a house or an apartment?\n",
      "answer : We live in a house in the countryside.\n",
      "question : What does your father do?\n",
      "answer : My father is a doctor. He works at the local hospital.\n",
      "question : How old is your mother?\n",
      "answer : She is 40 years old, 1 year younger than my father.\n",
      "question : Do you have any siblings? What’s his/her name?\n",
      "answer : Yes, I do. I have 1 elder brother, David, and 1 younger sister, Mary.\n",
      "question : Are you the oldest amongst your brothers and sisters?\n",
      "answer : No, I’m not. I’m the second child in my family.\n",
      "question : What do your mother/father like?\n",
      "answer : My father likes playing football and my mother likes cooking.\n",
      "question : Do your parents let you stay out late?\n",
      "answer : Of course not. They always ask me to get home before 10 pm each night.\n",
      "question : Do you stay with your parents?\n",
      "answer : Right now, no, but I used to.\n",
      "question : Does your family usually have dinner together?\n",
      "answer : Yes, we do. My mom always prepares delicious meals for us.\n",
      " 2. Restaurant - https://basicenglishspeaking.com/restaurant/\n",
      "question : How often do you eat out? Who do you go with?\n",
      "answer : I often eat out on weekends, when I hang out with my friends.\n",
      "question : What restaurant do you usually visit?\n",
      "answer : Well, there are not many restaurants in my neighborhood, so my best choice is the deli in convenient stores like the Circle K, Mini-Stop, B-smart.\n",
      "question : What type of food do you enjoy to eat? Western or Asian?\n",
      "answer : I’m interested in Asian food, Western food is not my thing.\n",
      "question : How much do you usually pay when you eat out?\n",
      "answer : It’s not very expensive, just around $5 for each meal.\n",
      "question : Do you enjoy spicy food?\n",
      "answer : Yes, I do, especially on cold days.\n",
      "question : Are the servers there friendly to you?\n",
      "answer : Yes, they are. Most of them are really helpful.\n",
      "question : Have you ever tried Italian food?\n",
      "answer : Yes, at least once, when I was in my friend’s wedding party.\n",
      "question : Are you concerned about calories when eating out?\n",
      "answer : Yes, I am. I’m on diet now, so this really matters to me.\n",
      "question : Are fast food restaurants like KFC or McDonald’s famous in your country?\n",
      "answer : Yes, they are. The youth in my country are big fans of fast food.\n",
      "question : Do you often drink alcohol when eating out?\n",
      "answer : No, not often. Just when I have parties with my friends.\n",
      " 3. Books - https://basicenglishspeaking.com/books/\n",
      "question : How often do you read books?\n",
      "answer : I read books almost every night before I go to bed.\n",
      "question : What’s your favorite type of book?\n",
      "answer : I love reading about different cultures.\n",
      "question : What can you learn from books?\n",
      "answer : Books can broaden my horizon about thousands of things around the world, and books are also my best friends.\n",
      "question : Where do you read books?\n",
      "answer : I read books at home, sometimes in the library.\n",
      "question : What’s the most interesting book you have ever read?\n",
      "answer : I think that would be \n",
      "question : How long does it take you to finish a book?\n",
      "answer : Well, it depends on the length of the book, but it usually takes me a week to finish a 300-page book.\n",
      "question : Do you usually bring books with you when you travel?\n",
      "answer : Yes, I do. When I’m at the airport or bus station, I read books to kill time.\n",
      "question : Is there any bookstore or library in your area?\n",
      "answer : Unfortunately, there are none near my house. The nearest one is 3 kilometers away.\n"
     ]
    }
   ],
   "source": [
    "if __name__ == \"__main__\":\n",
    "    subjects, contentLinks = getSubject()\n",
    "    # for i in range(len(subjects)):\n",
    "        # print(\"{0:2d}. {1} - {2}\".format(i + 1, subjects[i], contentLinks[i]))\n",
    "    print(\"총 {}개의 대화를 찾았습니다.\".format(len(subjects)))\n",
    "    \n",
    "    # 대화 주제에 따른 모든 대화 내용을 저장할 빈 리스트를 선언한다.\n",
    "    conversation = [] # Conversation 클래스의 객체가 저장된다. => 질문과 답변이 한 쌍으로 저장된 클래스\n",
    "    \n",
    "    i = 0 # 대화 주제의 개수를 카운트 하는 변수\n",
    "    # 대화 주제의 개수 만큼 반복하며 대화 내용을 얻어온다. => 테스트는 전체를 대상으로 하면 시간이 많이 걸리므로 슬라이싱 기능을 이용해 일부만 대상으로 한다.\n",
    "    for subject in subjects[:3]:\n",
    "        # print(\"{0:2d}. {1} - {2}\".format(i + 1, subjects[i], contentLinks[i]))\n",
    "        conversation.append(\"{0:2d}. {1} - {2}\".format(i + 1, subjects[i], contentLinks[i]))\n",
    "        \n",
    "        # 대화 주제별 대화 내용을 크롤링할 페이지를 서버에 요청한다.\n",
    "        request = requests.get(contentLinks[i])\n",
    "        \n",
    "        # time 모듈을 import 하면 sleep() 메소드를 사용할 수 있다.\n",
    "        # sleep() 메소드는 인수로 지정된 시간만큼 프로그램을 멈춘다. => 시간을 초 단위로 지정한다.\n",
    "        # 대형 포털 사이트는 짧은 간격으로 많은 요청이 들어오면 자기네 사이트가 공격당하는 것으로 판단할 수 있기 때문에 일정한 시간 간격을 두고\n",
    "        # 사이트의 정보를 요청한다.\n",
    "        # 페이지가 로딩되는 시간만큼 기다리기 위해 일정한 시간 간격을 두고 정보를 요청한다.\n",
    "        time.sleep(1)\n",
    "        \n",
    "        html = request.text\n",
    "        soup = BeautifulSoup(html, \"html.parser\")\n",
    "        \n",
    "        # 대화 주제에 따른 대화 내용은 class 속성이 \"sc_player_container1\"인 div 태그의 바로 다음에 위치한 형제이다.\n",
    "        divs = soup.findAll(\"div\", {\"class\": \"sc_player_container1\"})\n",
    "        # print(len(divs)) # 대화 내용의 개수\n",
    "        \n",
    "        # 각각의 대화 주제에 따른 대화 내용의 개수 만큼 반복한다.\n",
    "        for div in divs:\n",
    "            # index() : 인수로 지정된 객체의 인덱스 번호를 얻어온다.\n",
    "            # divs.index(div) => 대화 내용 전체(divs)에서 특정 대화(div)의 인덱스(인련) 번호를 얻어온다.\n",
    "            # index() 메소드의 실행 결과가 짝수면 질문이고 홀수면 답변이다.\n",
    "            # print(divs.index(div))\n",
    "            \n",
    "            # 크롤링할 데이터가 <div> 태그 내부에 작성된 것이 아니고 class 속성이 \"sc_player_container1\"인 <div> 태그 다음 형제로 되어있다.\n",
    "            # next_sibling => 다음 형제 노드를 의미한다.\n",
    "            # previous__sibling => 이전 형제 노드를 의미한다.\n",
    "            if divs.index(div) % 2 == 0: # 짝수인가? => 질문인가?\n",
    "                question = div.next_sibling # 인덱스가 짝수면 질문 변수에 질문을 저장한다.\n",
    "                # print(\"질문 : {}\".format(question))\n",
    "            else: \n",
    "                answer = div.next_sibling # 인덱스가 홀수면 답변 변수에 답변을 저장한다.\n",
    "                # print(\"답변 : {}\".format(answer))\n",
    "                \n",
    "                # 질문과 답변이 한 쌍이 되었으면 Conversation 클래스 객체를 생성하고 질문과 답변을 저장한다.\n",
    "                c = Conversation(question, answer)\n",
    "                # print(c)\n",
    "                # 질문과 답변이 한 쌍으로 저장된 Conversation 클래스 객체를 대화 내용을 기억할 conversation 리스트에 저장한다.\n",
    "                conversation.append(c)\n",
    "                \n",
    "        # 대화 주제 1건이 처리 완료되었으므로 다음 대화를 처리하기 위해서 i값을 1증가 시킨다.\n",
    "        i += 1\n",
    "    # ===== for subject in subjects: 끝\n",
    "                            \n",
    "    for c in conversation:\n",
    "        print(c)"
   ]
  },
  {
   "cell_type": "code",
   "execution_count": null,
   "metadata": {},
   "outputs": [],
   "source": []
  },
  {
   "cell_type": "code",
   "execution_count": null,
   "metadata": {},
   "outputs": [],
   "source": []
  },
  {
   "cell_type": "code",
   "execution_count": null,
   "metadata": {},
   "outputs": [],
   "source": []
  },
  {
   "cell_type": "code",
   "execution_count": null,
   "metadata": {},
   "outputs": [],
   "source": []
  },
  {
   "cell_type": "code",
   "execution_count": null,
   "metadata": {},
   "outputs": [],
   "source": []
  },
  {
   "cell_type": "code",
   "execution_count": null,
   "metadata": {},
   "outputs": [],
   "source": []
  },
  {
   "cell_type": "code",
   "execution_count": null,
   "metadata": {},
   "outputs": [],
   "source": []
  }
 ],
 "metadata": {
  "kernelspec": {
   "display_name": "Python 3",
   "language": "python",
   "name": "python3"
  },
  "language_info": {
   "codemirror_mode": {
    "name": "ipython",
    "version": 3
   },
   "file_extension": ".py",
   "mimetype": "text/x-python",
   "name": "python",
   "nbconvert_exporter": "python",
   "pygments_lexer": "ipython3",
   "version": "3.7.4"
  }
 },
 "nbformat": 4,
 "nbformat_minor": 2
}
