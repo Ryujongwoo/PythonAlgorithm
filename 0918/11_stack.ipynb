{
 "cells": [
  {
   "cell_type": "code",
   "execution_count": 72,
   "metadata": {},
   "outputs": [],
   "source": [
    "class Stack:\n",
    "    # Stack 클래스가 생성될 때 스택의 크기를 넘겨받으면 넘겨받은 크기 만큼의 스택을 생성하고 크기를 넘겨받지 않으면 5개의 데이터를 저장할 수 있는 스택을\n",
    "    # 만든다. => default 인수를 사용하면 된다.\n",
    "    # __init__() 함수로 size가 넘어오면 넘어온 크기를 이용하고 넘어오지 않으면 default로 지정된 5가 size가 된다.\n",
    "    def __init__(self, size = 5):\n",
    "        # print('Stack 클래스의 생성자 실행 => 스택의 크기는 {}개'.format(size))\n",
    "        self.stack = []  # stack => 빈 리스트 => 데이터는 append() 메소드로 추가한다.\n",
    "        self.size = size # stack의 크기\n",
    "        self.top = 0     # top, SP(Stack Pointer) => stack에 몇개의 데이터가 저장되었나 기억한다. => 데이터가 입력되면 1증가, 출력되면 1감소\n",
    "        \n",
    "    # push => 입력\n",
    "    def push(self, data):\n",
    "        if data not in self.stack:      # 스택에 추가할 데이터가 스택에 존재하지 않는가?\n",
    "            # 데이터가 스택에 존재하지 않기 때문에 스텍에 데이터를 추가한다\n",
    "            if self.top < self.size:    # Overflow가 아닌가?\n",
    "                # Overflow가 발생되지 않았으면 스택에 데이터를 추가한다.\n",
    "                self.stack.append(data) # 스택에 데이터를 추가한다.\n",
    "                self.top += 1           # 스택에 데이터를 추가했으므로 SP를 1증가 시킨다.\n",
    "                print(\"스택에 {}을(를) PUSH 합니다.\".format(data), end = ' ')\n",
    "            else:\n",
    "                # Overflow가 발생되면 스택이 가득 찼다는 메시지를 출력한다.\n",
    "                print('Overflow... 스택이 가득차서 {}을(를) PUSH 할 수 없습니다.'.format(data), end = ' ')\n",
    "            # ===============\n",
    "        else:\n",
    "            # 추가할 데이터가 스택에 존재하기때문데 중복되는 데이터라는 메시지를 출력한다.\n",
    "            print('{}는(은) 중복된 데이터 입니다.'.format(data), end = ' ')\n",
    "        # ===============\n",
    "        # print(self.stack)\n",
    "        self.list()\n",
    "        \n",
    "    # pop  => 출력\n",
    "    def pop(self):\n",
    "        if self.top <= 0:\n",
    "            print('스택에 저장된 데이터가 없습니다.')\n",
    "        else:\n",
    "            print('POP 데이터 :', self.stack.pop(), end = ' ')\n",
    "            self.top -= 1\n",
    "            self.list()\n",
    "    \n",
    "    # list => 목록보기\n",
    "    def list(self):\n",
    "        print('스택에 저장된 데이터 => ', end = '')\n",
    "        if self.top <= 0: # 스택에 저장된 데이터가 없는가?\n",
    "            print('없음')\n",
    "        else:\n",
    "            # 스택에 저장된 데이터가 있으므로 스택에 저장된 데이터의 개수 만큼 반복하메 스택에 저장된 데이터를 출력한다.\n",
    "            for i in range(self.top):\n",
    "                if i > 0:\n",
    "                    print(', ', end = '')\n",
    "                print(self.stack[i], end = '')\n",
    "            # ===============\n",
    "            print()"
   ]
  },
  {
   "cell_type": "code",
   "execution_count": 75,
   "metadata": {},
   "outputs": [
    {
     "name": "stdout",
     "output_type": "stream",
     "text": [
      "스택에 111을(를) PUSH 합니다. 스택에 저장된 데이터 => 111\n",
      "스택에 월요일을(를) PUSH 합니다. 스택에 저장된 데이터 => 111, 월요일\n",
      "스택에 True을(를) PUSH 합니다. 스택에 저장된 데이터 => 111, 월요일, True\n",
      "월요일는(은) 중복된 데이터 입니다. 스택에 저장된 데이터 => 111, 월요일, True\n",
      "스택에 3.141592을(를) PUSH 합니다. 스택에 저장된 데이터 => 111, 월요일, True, 3.141592\n",
      "스택에 222을(를) PUSH 합니다. 스택에 저장된 데이터 => 111, 월요일, True, 3.141592, 222\n",
      "Overflow... 스택이 가득차서 333을(를) PUSH 할 수 없습니다. 스택에 저장된 데이터 => 111, 월요일, True, 3.141592, 222\n",
      "POP 데이터 : 222 스택에 저장된 데이터 => 111, 월요일, True, 3.141592\n",
      "POP 데이터 : 3.141592 스택에 저장된 데이터 => 111, 월요일, True\n",
      "POP 데이터 : True 스택에 저장된 데이터 => 111, 월요일\n",
      "POP 데이터 : 월요일 스택에 저장된 데이터 => 111\n",
      "POP 데이터 : 111 스택에 저장된 데이터 => 없음\n",
      "스택에 저장된 데이터가 없습니다.\n"
     ]
    }
   ],
   "source": [
    "if __name__ == '__main__':\n",
    "    # 테스트 코드\n",
    "    stack = Stack()\n",
    "    stack.push(111)\n",
    "    stack.push('월요일')\n",
    "    stack.push(True)\n",
    "    stack.push('월요일')\n",
    "    stack.push(3.141592)\n",
    "    stack.push(222)\n",
    "    stack.push(333)\n",
    "    stack.pop()\n",
    "    stack.pop()\n",
    "    stack.pop()\n",
    "    stack.pop()\n",
    "    stack.pop()\n",
    "    stack.pop()"
   ]
  },
  {
   "cell_type": "code",
   "execution_count": 25,
   "metadata": {},
   "outputs": [
    {
     "name": "stdout",
     "output_type": "stream",
     "text": [
      "True\n",
      "False\n"
     ]
    }
   ],
   "source": [
    "print(10 in [10, 20, 30])\n",
    "print(10 not in [10, 20, 30])"
   ]
  },
  {
   "cell_type": "code",
   "execution_count": null,
   "metadata": {},
   "outputs": [],
   "source": []
  },
  {
   "cell_type": "code",
   "execution_count": null,
   "metadata": {},
   "outputs": [],
   "source": []
  },
  {
   "cell_type": "code",
   "execution_count": null,
   "metadata": {},
   "outputs": [],
   "source": []
  },
  {
   "cell_type": "code",
   "execution_count": null,
   "metadata": {},
   "outputs": [],
   "source": []
  }
 ],
 "metadata": {
  "kernelspec": {
   "display_name": "Python 3",
   "language": "python",
   "name": "python3"
  },
  "language_info": {
   "codemirror_mode": {
    "name": "ipython",
    "version": 3
   },
   "file_extension": ".py",
   "mimetype": "text/x-python",
   "name": "python",
   "nbconvert_exporter": "python",
   "pygments_lexer": "ipython3",
   "version": "3.6.8"
  }
 },
 "nbformat": 4,
 "nbformat_minor": 4
}
