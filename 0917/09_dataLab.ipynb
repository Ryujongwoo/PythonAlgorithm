{
 "cells": [
  {
   "cell_type": "markdown",
   "metadata": {},
   "source": [
    "네이버 연령대별 실시간 검색어 순위"
   ]
  },
  {
   "cell_type": "code",
   "execution_count": 1,
   "metadata": {},
   "outputs": [],
   "source": [
    "import requests\n",
    "from bs4 import BeautifulSoup"
   ]
  },
  {
   "cell_type": "code",
   "execution_count": 9,
   "metadata": {},
   "outputs": [
    {
     "name": "stdout",
     "output_type": "stream",
     "text": [
      "https://datalab.naver.com/keyword/realtimeList.naver?age=10s&entertainment=-2&groupingLevel=4&marketing=-2&news=2&sports=2&where=main\n",
      "https://datalab.naver.com/keyword/realtimeList.naver?age=20s&entertainment=-2&groupingLevel=4&marketing=-2&news=2&sports=2&where=main\n",
      "https://datalab.naver.com/keyword/realtimeList.naver?age=30s&entertainment=-2&groupingLevel=4&marketing=-2&news=2&sports=2&where=main\n",
      "https://datalab.naver.com/keyword/realtimeList.naver?age=40s&entertainment=-2&groupingLevel=4&marketing=-2&news=2&sports=2&where=main\n",
      "https://datalab.naver.com/keyword/realtimeList.naver?age=50s&entertainment=-2&groupingLevel=4&marketing=-2&news=2&sports=2&where=main\n",
      "https://datalab.naver.com/keyword/realtimeList.naver?age=all&entertainment=-2&groupingLevel=4&marketing=-2&news=2&sports=2&where=main\n"
     ]
    }
   ],
   "source": [
    "# https://datalab.naver.com/keyword/realtimeList.naver?age=10s&entertainment=-2&groupingLevel=4&marketing=-2&news=2&sports=2&where=main\n",
    "# https://datalab.naver.com/keyword/realtimeList.naver?age=20s&entertainment=-2&groupingLevel=4&marketing=-2&news=2&sports=2&where=main\n",
    "# https://datalab.naver.com/keyword/realtimeList.naver?age=30s&entertainment=-2&groupingLevel=4&marketing=-2&news=2&sports=2&where=main\n",
    "# https://datalab.naver.com/keyword/realtimeList.naver?age=40s&entertainment=-2&groupingLevel=4&marketing=-2&news=2&sports=2&where=main\n",
    "# https://datalab.naver.com/keyword/realtimeList.naver?age=50s&entertainment=-2&groupingLevel=4&marketing=-2&news=2&sports=2&where=main\n",
    "# https://datalab.naver.com/keyword/realtimeList.naver?age=all&entertainment=-2&groupingLevel=4&marketing=-2&news=2&sports=2&where=main\n",
    "ageList = {'1': '10s', '2': '20s', '3': '30s', '4': '40s', '5': '50s','6': 'all'}\n",
    "url1 = 'https://datalab.naver.com/keyword/realtimeList.naver?age='\n",
    "url2 = '&entertainment=-2&groupingLevel=4&marketing=-2&news=2&sports=2&where=main'\n",
    "for key in ageList:\n",
    "    # targetSite = '{}{}{}'.format(url1, ageList.get(key), url2)\n",
    "    targetSite = '{}{}{}'.format(url1, ageList[key], url2)\n",
    "    print(targetSite)"
   ]
  },
  {
   "cell_type": "code",
   "execution_count": 18,
   "metadata": {},
   "outputs": [
    {
     "name": "stdout",
     "output_type": "stream",
     "text": [
      "연령대를 선택하세요(1 => 10대, 2 => 20대, 3 => 30대, 4 => 40대, 5 => 50대, 6 => 전체) : 2\n",
      "김한석\n",
      "서울교통공사\n",
      "토트넘 유로파\n",
      "티아고 알칸타라\n",
      "택배 파업\n",
      "닭벼슬\n",
      "가레스 베일\n",
      "rtx 3080\n",
      "핸드메이즈 테일\n",
      "파나틱스\n",
      "김민석\n",
      "한판치킨\n",
      "고백데이\n",
      "디바\n",
      "엉두\n",
      "지수\n",
      "임성한\n",
      "하하하\n",
      "맛남의 광장\n",
      "블랙핑크 지수\n"
     ]
    }
   ],
   "source": [
    "ageList = {'1': '10s', '2': '20s', '3': '30s', '4': '40s', '5': '50s','6': 'all'}\n",
    "url1 = 'https://datalab.naver.com/keyword/realtimeList.naver?age=' # 공통 부분 1\n",
    "url2 = '&entertainment=-2&groupingLevel=4&marketing=-2&news=2&sports=2&where=main' # 공통 부분 2\n",
    "age = input('연령대를 선택하세요(1 => 10대, 2 => 20대, 3 => 30대, 4 => 40대, 5 => 50대, 6 => 전체) : ')\n",
    "targetSite = '{}{}{}'.format(url1, ageList[age], url2)\n",
    "\n",
    "header = {\"User-agent\": \"Mozilla/5.0 (Windows NT 6.1; WOW64; Trident/7.0; rv:11.0) like Gecko\"}\n",
    "request = requests.get(targetSite, headers = header)\n",
    "# print(request)\n",
    "html = request.text\n",
    "soup = BeautifulSoup(html, \"html.parser\")\n",
    "# print(soup)\n",
    "\n",
    "words = soup.findAll('span', {'class': 'item_title'})\n",
    "# print(word)\n",
    "for i in range(len(words)):\n",
    "    print(words[i].text)"
   ]
  },
  {
   "cell_type": "code",
   "execution_count": null,
   "metadata": {},
   "outputs": [],
   "source": []
  },
  {
   "cell_type": "code",
   "execution_count": null,
   "metadata": {},
   "outputs": [],
   "source": []
  },
  {
   "cell_type": "code",
   "execution_count": null,
   "metadata": {},
   "outputs": [],
   "source": []
  },
  {
   "cell_type": "code",
   "execution_count": null,
   "metadata": {},
   "outputs": [],
   "source": []
  },
  {
   "cell_type": "code",
   "execution_count": null,
   "metadata": {},
   "outputs": [],
   "source": []
  }
 ],
 "metadata": {
  "kernelspec": {
   "display_name": "Python 3",
   "language": "python",
   "name": "python3"
  },
  "language_info": {
   "codemirror_mode": {
    "name": "ipython",
    "version": 3
   },
   "file_extension": ".py",
   "mimetype": "text/x-python",
   "name": "python",
   "nbconvert_exporter": "python",
   "pygments_lexer": "ipython3",
   "version": "3.6.8"
  }
 },
 "nbformat": 4,
 "nbformat_minor": 4
}
