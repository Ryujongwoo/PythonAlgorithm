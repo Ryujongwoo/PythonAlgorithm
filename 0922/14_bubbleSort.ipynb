{
 "cells": [
  {
   "cell_type": "code",
   "execution_count": 2,
   "metadata": {},
   "outputs": [
    {
     "data": {
      "image/png": "[encoded data removed]",
      "text/plain": [
       "<IPython.core.display.Image object>"
      ]
     },
     "execution_count": 2,
     "metadata": {
      "image/png": {
       "height": "1000",
       "width": "1000"
      }
     },
     "output_type": "execute_result"
    }
   ],
   "source": [
    "from IPython.display import Image\n",
    "Image('./bubbleSort.png', width = '1000', height = '1000')"
   ]
  },
  {
   "cell_type": "code",
   "execution_count": 8,
   "metadata": {},
   "outputs": [
    {
     "name": "stdout",
     "output_type": "stream",
     "text": [
      "1회전 결과 : [3, 4, 8, 1, 9]\n",
      "2회전 결과 : [3, 4, 1, 8, 9]\n",
      "3회전 결과 : [3, 1, 4, 8, 9]\n",
      "4회전 결과 : [1, 3, 4, 8, 9]\n"
     ]
    }
   ],
   "source": [
    "sortData = [8, 3, 4, 9, 1]\n",
    "for i in range(len(sortData) - 1):\n",
    "    for j in range(len(sortData) - i - 1):\n",
    "        # print('i = {}, j = {}'.format(i, j))\n",
    "        # 부등호를 '<'로 변경하면 내림차순으로 정렬된다.\n",
    "        if sortData[j] > sortData[j + 1]:\n",
    "            sortData[j], sortData[j + 1] = sortData[j + 1], sortData[j]\n",
    "        # ============= if sortData[j] > sortData[j + 1]: 끝\n",
    "    # ============= for j in range(len(sortData) - i - 1): 끝 => 회전 끝\n",
    "    print('{}회전 결과 : {}'.format(i + 1, sortData))\n",
    "# ============= for i in range(len(sortData) - 1): 끝 => 정렬 끝\n",
    "# print('정렬 결과 : {}'.format(sortData))"
   ]
  },
  {
   "cell_type": "code",
   "execution_count": 20,
   "metadata": {},
   "outputs": [
    {
     "name": "stdout",
     "output_type": "stream",
     "text": [
      "1회전 결과 : [1, 3, 4, 8, 9]\n"
     ]
    }
   ],
   "source": [
    "# 중간 종료가 가능한 bubble Sort\n",
    "sortData = [9, 1, 3, 4, 8]\n",
    "for i in range(len(sortData) - 1):\n",
    "    flag = False\n",
    "    for j in range(len(sortData) - i - 1):\n",
    "        if sortData[j] > sortData[j + 1]:\n",
    "            # 값교환이 이루어지면 정렬 작업이 진행중이라는 의미이다.\n",
    "            sortData[j], sortData[j + 1] = sortData[j + 1], sortData[j]\n",
    "            flag = True\n",
    "        # ===============\n",
    "    # ===============\n",
    "    if not flag:\n",
    "        break\n",
    "    print('{}회전 결과 : {}'.format(i + 1, sortData))\n",
    "# ==============="
   ]
  },
  {
   "cell_type": "code",
   "execution_count": null,
   "metadata": {},
   "outputs": [],
   "source": []
  },
  {
   "cell_type": "code",
   "execution_count": null,
   "metadata": {},
   "outputs": [],
   "source": []
  },
  {
   "cell_type": "code",
   "execution_count": null,
   "metadata": {},
   "outputs": [],
   "source": []
  },
  {
   "cell_type": "code",
   "execution_count": null,
   "metadata": {},
   "outputs": [],
   "source": []
  },
  {
   "cell_type": "code",
   "execution_count": null,
   "metadata": {},
   "outputs": [],
   "source": []
  },
  {
   "cell_type": "code",
   "execution_count": null,
   "metadata": {},
   "outputs": [],
   "source": []
  }
 ],
 "metadata": {
  "kernelspec": {
   "display_name": "Python 3",
   "language": "python",
   "name": "python3"
  },
  "language_info": {
   "codemirror_mode": {
    "name": "ipython",
    "version": 3
   },
   "file_extension": ".py",
   "mimetype": "text/x-python",
   "name": "python",
   "nbconvert_exporter": "python",
   "pygments_lexer": "ipython3",
   "version": "3.6.8"
  }
 },
 "nbformat": 4,
 "nbformat_minor": 4
}
