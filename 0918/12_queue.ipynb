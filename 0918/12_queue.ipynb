{
 "cells": [
  {
   "cell_type": "code",
   "execution_count": 24,
   "metadata": {},
   "outputs": [],
   "source": [
    "class Queue:\n",
    "    def __init__(self, size = 5):\n",
    "        self.queue = []\n",
    "        self.size = size\n",
    "        self.front = 0 # 큐의 앞쪽 포인터, 큐에서 데이터가 제거될 때 마다 1씩 증가한다.\n",
    "        self.rear = 0  # 큐의 뒤쪽 포인터, 큐에 데이터가 추가될 때 마다 1씩 증가한다.\n",
    "        \n",
    "    def add(self, data): # 큐에 데이터를 추가하는 함수\n",
    "        if data not in self.queue:\n",
    "            if self.rear < self.size:\n",
    "                self.queue.append(data)\n",
    "                self.rear += 1\n",
    "                print(\"큐에 {}을(를) PUSH 합니다.\".format(data), end = ' ')\n",
    "                print('rear = {}, front = {}'.format(self.rear, self.front), end = ' ')\n",
    "            else:\n",
    "                 print('Overflow... 큐가 가득차서 {}을(를) PUSH 할 수 없습니다.'.format(data), end = ' ')\n",
    "        else:\n",
    "            print('{}는(은) 중복된 데이터 입니다.'.format(data), end = ' ')\n",
    "        self.list()\n",
    "    \n",
    "    def remove(self): # 큐에서 데이터를 제거하는 함수\n",
    "        if self.rear == 0 or self.rear == self.front:\n",
    "            print('큐에 저장된 데이터가 없습니다.')\n",
    "        else:\n",
    "            print('POP 데이터 :', self.queue[queue.front], end = ' ')\n",
    "            self.queue[queue.front] = ''\n",
    "            queue.front += 1\n",
    "            print('rear = {}, front = {}'.format(self.rear, self.front), end = ' ')\n",
    "            self.list()\n",
    "    \n",
    "    def list(self): # 큐에 저장된 데이터를 출력하는 함수\n",
    "        print('큐에 저장된 데이터 => ', end = '')\n",
    "        if self.rear == 0 or self.rear == self.front: # 큐에 저장된 데이터가 없는가?\n",
    "            print('없음')\n",
    "        else:\n",
    "            for i in range(self.front, self.rear):\n",
    "                if i > self.front:\n",
    "                    print(', ', end = '')\n",
    "                print(self.queue[i], end = '')\n",
    "            # ===============\n",
    "            print()"
   ]
  },
  {
   "cell_type": "code",
   "execution_count": 25,
   "metadata": {},
   "outputs": [
    {
     "name": "stdout",
     "output_type": "stream",
     "text": [
      "큐에 저장된 데이터가 없습니다.\n",
      "큐에 111을(를) PUSH 합니다. rear = 1, front = 0 큐에 저장된 데이터 => 111\n",
      "큐에 222을(를) PUSH 합니다. rear = 2, front = 0 큐에 저장된 데이터 => 111, 222\n",
      "큐에 333을(를) PUSH 합니다. rear = 3, front = 0 큐에 저장된 데이터 => 111, 222, 333\n",
      "111는(은) 중복된 데이터 입니다. 큐에 저장된 데이터 => 111, 222, 333\n",
      "큐에 444을(를) PUSH 합니다. rear = 4, front = 0 큐에 저장된 데이터 => 111, 222, 333, 444\n",
      "큐에 555을(를) PUSH 합니다. rear = 5, front = 0 큐에 저장된 데이터 => 111, 222, 333, 444, 555\n",
      "Overflow... 큐가 가득차서 666을(를) PUSH 할 수 없습니다. 큐에 저장된 데이터 => 111, 222, 333, 444, 555\n",
      "POP 데이터 : 111 rear = 5, front = 1 큐에 저장된 데이터 => 222, 333, 444, 555\n",
      "POP 데이터 : 222 rear = 5, front = 2 큐에 저장된 데이터 => 333, 444, 555\n",
      "POP 데이터 : 333 rear = 5, front = 3 큐에 저장된 데이터 => 444, 555\n",
      "POP 데이터 : 444 rear = 5, front = 4 큐에 저장된 데이터 => 555\n",
      "POP 데이터 : 555 rear = 5, front = 5 큐에 저장된 데이터 => 없음\n",
      "큐에 저장된 데이터가 없습니다.\n"
     ]
    }
   ],
   "source": [
    "if __name__ == '__main__':\n",
    "    queue = Queue()\n",
    "    queue.remove()\n",
    "    queue.add(111)\n",
    "    queue.add(222)\n",
    "    queue.add(333)\n",
    "    queue.add(111)\n",
    "    queue.add(444)\n",
    "    queue.add(555)\n",
    "    queue.add(666)\n",
    "    queue.remove()\n",
    "    queue.remove()\n",
    "    queue.remove()\n",
    "    queue.remove()\n",
    "    queue.remove()\n",
    "    queue.remove()"
   ]
  },
  {
   "cell_type": "code",
   "execution_count": null,
   "metadata": {},
   "outputs": [],
   "source": []
  },
  {
   "cell_type": "code",
   "execution_count": null,
   "metadata": {},
   "outputs": [],
   "source": []
  },
  {
   "cell_type": "code",
   "execution_count": null,
   "metadata": {},
   "outputs": [],
   "source": []
  }
 ],
 "metadata": {
  "kernelspec": {
   "display_name": "Python 3",
   "language": "python",
   "name": "python3"
  },
  "language_info": {
   "codemirror_mode": {
    "name": "ipython",
    "version": 3
   },
   "file_extension": ".py",
   "mimetype": "text/x-python",
   "name": "python",
   "nbconvert_exporter": "python",
   "pygments_lexer": "ipython3",
   "version": "3.6.8"
  }
 },
 "nbformat": 4,
 "nbformat_minor": 4
}
