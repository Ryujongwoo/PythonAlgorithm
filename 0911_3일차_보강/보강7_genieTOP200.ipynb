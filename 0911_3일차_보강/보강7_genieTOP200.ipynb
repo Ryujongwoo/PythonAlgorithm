{
 "cells": [
  {
   "cell_type": "code",
   "execution_count": 1,
   "metadata": {},
   "outputs": [],
   "source": [
    "import requests\n",
    "from bs4 import BeautifulSoup\n",
    "from datetime import datetime as dt"
   ]
  },
  {
   "cell_type": "code",
   "execution_count": 4,
   "metadata": {},
   "outputs": [
    {
     "name": "stdout",
     "output_type": "stream",
     "text": [
      "https://www.genie.co.kr/chart/top200?ditc=D&ymd=20200911&hh=21&rtm=Y&pg=1\n",
      "https://www.genie.co.kr/chart/top200?ditc=D&ymd=20200911&hh=21&rtm=Y&pg=2\n",
      "https://www.genie.co.kr/chart/top200?ditc=D&ymd=20200911&hh=21&rtm=Y&pg=3\n",
      "https://www.genie.co.kr/chart/top200?ditc=D&ymd=20200911&hh=21&rtm=Y&pg=4\n"
     ]
    }
   ],
   "source": [
    "# 지니 뮤직은 50위 단위로 노래 순위가 4페이지에 걸쳐 구성되어 있으므로 변하지 않는 url에 변하는 내용을 이어서 최종 url을 구성해야 한다.\n",
    "# https://www.genie.co.kr/chart/top200?ditc=D&ymd=20200911&hh=21&rtm=Y&pg=1 ->   1 ~  50위 url\n",
    "# https://www.genie.co.kr/chart/top200?ditc=D&ymd=20200911&hh=21&rtm=Y&pg=2 =>  51 ~ 100위 url\n",
    "# https://www.genie.co.kr/chart/top200?ditc=D&ymd=20200911&hh=21&rtm=Y&pg=3 => 101 ~ 150위 url\n",
    "# https://www.genie.co.kr/chart/top200?ditc=D&ymd=20200911&hh=21&rtm=Y&pg=4 => 151 ~ 200위 url\n",
    "targetSite = 'https://www.genie.co.kr/chart/top200?ditc=D&ymd=20200911&hh=21&rtm=Y&pg='\n",
    "for i in range(1, 5):\n",
    "    print(targetSite + str(i))"
   ]
  },
  {
   "cell_type": "code",
   "execution_count": null,
   "metadata": {},
   "outputs": [],
   "source": []
  }
 ],
 "metadata": {
  "kernelspec": {
   "display_name": "Python 3",
   "language": "python",
   "name": "python3"
  },
  "language_info": {
   "codemirror_mode": {
    "name": "ipython",
    "version": 3
   },
   "file_extension": ".py",
   "mimetype": "text/x-python",
   "name": "python",
   "nbconvert_exporter": "python",
   "pygments_lexer": "ipython3",
   "version": "3.7.4"
  }
 },
 "nbformat": 4,
 "nbformat_minor": 2
}
